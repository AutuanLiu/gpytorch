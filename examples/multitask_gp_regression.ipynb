{
 "cells": [
  {
   "cell_type": "markdown",
   "metadata": {},
   "source": [
    "This notebook demonstrates how to perform standard (Kronecker) multitask regression with kernels.IndexKernel.\n",
    "\n",
    "This differs from the [hadamard_multitask_gp_regression example notebook](https://github.com/cornellius-gp/gpytorch/blob/master/examples/hadamard_multitask_gp_regression.ipynb) in one key way:\n",
    "- Here, we assume that we want to learn **all tasks per input**. (The kernel that we learn is expressed as a Krnoecker product of an input kernel and a task kernel).\n",
    "- In the other notebook, we assume that we want to learn one tasks per input.  For each input, we specify the task of the input that we care about. (The kernel in that notebook is the Hadamard product of an input kernel and a task kernel).\n",
    "\n",
    "Multitask regression, first introduced in [this paper](https://papers.nips.cc/paper/3189-multi-task-gaussian-process-prediction.pdf) learns similarities in the outputs simultaneously. It's useful when you are performing regression on multiple functions that share the same inputs, especially if they have similarities (such as being sinusodial). "
   ]
  },
  {
   "cell_type": "code",
   "execution_count": 1,
   "metadata": {},
   "outputs": [],
   "source": [
    "import math\n",
    "import torch\n",
    "import gpytorch\n",
    "from matplotlib import pyplot as plt\n",
    "\n",
    "%matplotlib inline\n",
    "%load_ext autoreload\n",
    "%autoreload 2"
   ]
  },
  {
   "cell_type": "code",
   "execution_count": 2,
   "metadata": {},
   "outputs": [],
   "source": [
    "# Training points are every 0.1 in [0,1] (note that they're the same for both tasks)\n",
    "train_x = torch.linspace(0, 1, 100)\n",
    "\n",
    "# y1 function is sin(2*pi*x) with noise N(0, 0.04)\n",
    "train_y1 = torch.sin(train_x.data * (2 * math.pi)) + torch.randn(train_x.size()) * 0.2\n",
    "# y2 function is cos(2*pi*x) with noise N(0, 0.04)\n",
    "train_y2 = torch.cos(train_x.data * (2 * math.pi)) + torch.randn(train_x.size()) * 0.2\n",
    "\n",
    "# Create a train_y which interleaves the two\n",
    "train_y = torch.stack([train_y1, train_y2], -1).view(-1)"
   ]
  },
  {
   "cell_type": "code",
   "execution_count": 3,
   "metadata": {},
   "outputs": [],
   "source": [
    "from torch import optim\n",
    "from gpytorch.kernels import RBFKernel, IndexKernel\n",
    "from gpytorch.means import ConstantMean\n",
    "from gpytorch.likelihoods import GaussianLikelihood\n",
    "from gpytorch.random_variables import GaussianRandomVariable"
   ]
  },
  {
   "cell_type": "code",
   "execution_count": 4,
   "metadata": {},
   "outputs": [],
   "source": [
    "class MultitaskGPModel(gpytorch.models.ExactGP):\n",
    "    def __init__(self, train_x, train_y, likelihood):\n",
    "        super(MultitaskGPModel, self).__init__(train_x, train_y, likelihood)\n",
    "        # Default bounds on mean are (-1e10, 1e10)\n",
    "        self.mean_module = ConstantMean()\n",
    "        # We use the very common RBF kernel\n",
    "        self.covar_module = RBFKernel()\n",
    "        # We learn an IndexKernel for 2 tasks\n",
    "        # (so we'll actually learn 2x2=4 tasks with correlations)\n",
    "        self.task_covar_module = IndexKernel(n_tasks=2, rank=1)\n",
    "        # We want to learn two tasks, which we will assign indices 0 and 1\n",
    "        self.register_buffer('task_indices', torch.LongTensor([0, 1]))\n",
    "\n",
    "    def forward(self, x):\n",
    "        # Get predictive mean\n",
    "        mean_x = self.mean_module(x)\n",
    "        # Since we may have 2 tasks, we'll have to repeat the mean\n",
    "        # for as many tasks as we have\n",
    "        mean_x = mean_x.repeat(2)\n",
    "        \n",
    "        # Get the input-specific covariance\n",
    "        covar_x = self.covar_module(x)\n",
    "        # # Get the task-specific covariance\n",
    "        covar_i = self.task_covar_module(self.task_indices)\n",
    "        # The covariance matrix that we use is the kronecker product between the input and task covar matrices\n",
    "        # Here we use a \"KroneckerProductLazyVariable\" to do the kronecker product\n",
    "        # This prevents us from actually computing the complete matrix, and we instead get major computation savings\n",
    "        covar_xi = gpytorch.lazy.KroneckerProductLazyVariable(covar_i, covar_x)\n",
    "        \n",
    "        return GaussianRandomVariable(mean_x, covar_xi)\n",
    "\n",
    "# Gaussian likelihood is used for regression to give predictive mean+variance\n",
    "# and learn noise\n",
    "likelihood = GaussianLikelihood()\n",
    "model = MultitaskGPModel(train_x, train_y, likelihood)"
   ]
  },
  {
   "cell_type": "code",
   "execution_count": 5,
   "metadata": {
    "scrolled": false
   },
   "outputs": [
    {
     "name": "stdout",
     "output_type": "stream",
     "text": [
      "Iter 1/50 - Loss: 1.077\n",
      "Iter 2/50 - Loss: 1.026\n",
      "Iter 3/50 - Loss: 0.977\n",
      "Iter 4/50 - Loss: 0.930\n",
      "Iter 5/50 - Loss: 0.886\n",
      "Iter 6/50 - Loss: 0.834\n",
      "Iter 7/50 - Loss: 0.785\n",
      "Iter 8/50 - Loss: 0.741\n",
      "Iter 9/50 - Loss: 0.685\n",
      "Iter 10/50 - Loss: 0.652\n",
      "Iter 11/50 - Loss: 0.590\n",
      "Iter 12/50 - Loss: 0.562\n",
      "Iter 13/50 - Loss: 0.511\n",
      "Iter 14/50 - Loss: 0.476\n",
      "Iter 15/50 - Loss: 0.446\n",
      "Iter 16/50 - Loss: 0.409\n",
      "Iter 17/50 - Loss: 0.362\n",
      "Iter 18/50 - Loss: 0.325\n",
      "Iter 19/50 - Loss: 0.261\n",
      "Iter 20/50 - Loss: 0.250\n",
      "Iter 21/50 - Loss: 0.199\n",
      "Iter 22/50 - Loss: 0.181\n",
      "Iter 23/50 - Loss: 0.144\n",
      "Iter 24/50 - Loss: 0.133\n",
      "Iter 25/50 - Loss: 0.092\n",
      "Iter 26/50 - Loss: 0.077\n",
      "Iter 27/50 - Loss: 0.061\n",
      "Iter 28/50 - Loss: 0.019\n",
      "Iter 29/50 - Loss: 0.016\n",
      "Iter 30/50 - Loss: -0.017\n",
      "Iter 31/50 - Loss: -0.016\n",
      "Iter 32/50 - Loss: -0.021\n",
      "Iter 33/50 - Loss: -0.056\n",
      "Iter 34/50 - Loss: -0.046\n",
      "Iter 35/50 - Loss: -0.039\n",
      "Iter 36/50 - Loss: -0.051\n",
      "Iter 37/50 - Loss: -0.046\n",
      "Iter 38/50 - Loss: -0.045\n",
      "Iter 39/50 - Loss: -0.040\n",
      "Iter 40/50 - Loss: -0.027\n",
      "Iter 41/50 - Loss: -0.012\n",
      "Iter 42/50 - Loss: -0.020\n",
      "Iter 43/50 - Loss: 0.019\n",
      "Iter 44/50 - Loss: 0.012\n",
      "Iter 45/50 - Loss: -0.019\n",
      "Iter 46/50 - Loss: 0.021\n",
      "Iter 47/50 - Loss: -0.004\n",
      "Iter 48/50 - Loss: -0.010\n",
      "Iter 49/50 - Loss: -0.012\n",
      "Iter 50/50 - Loss: -0.006\n"
     ]
    }
   ],
   "source": [
    "# Find optimal model hyperparameters\n",
    "model.train()\n",
    "likelihood.train()\n",
    "\n",
    "# Use the adam optimizer\n",
    "optimizer = torch.optim.Adam([\n",
    "    {'params': model.parameters()},  # Includes GaussianLikelihood parameters\n",
    "], lr=0.1)\n",
    "\n",
    "# \"Loss\" for GPs - the marginal log likelihood\n",
    "mll = gpytorch.mlls.ExactMarginalLogLikelihood(likelihood, model)\n",
    "\n",
    "n_iter = 50\n",
    "for i in range(n_iter):\n",
    "    # Zero prev backpropped gradients\n",
    "    optimizer.zero_grad()\n",
    "    # Make predictions from training data\n",
    "    # Again, note feeding duplicated x_data and indices indicating which task\n",
    "    output = model(train_x)\n",
    "    # Calc the loss and backprop gradients\n",
    "    loss = -mll(output, train_y)\n",
    "    loss.backward()\n",
    "    print('Iter %d/%d - Loss: %.3f' % (i + 1, n_iter, loss.item()))\n",
    "    optimizer.step()"
   ]
  },
  {
   "cell_type": "code",
   "execution_count": 6,
   "metadata": {
    "scrolled": true
   },
   "outputs": [
    {
     "name": "stderr",
     "output_type": "stream",
     "text": [
      "/home/gpleiss/anaconda3/envs/gpytorch/lib/python3.6/site-packages/matplotlib/font_manager.py:1339: UserWarning: findfont: Font family ['Times'] not found. Falling back to DejaVu Sans\n",
      "  (prop.get_family(), self.defaultFamily[fontext]))\n",
      "/home/gpleiss/anaconda3/envs/gpytorch/lib/python3.6/site-packages/matplotlib/font_manager.py:1339: UserWarning: findfont: Font family ['Times'] not found. Falling back to DejaVu Sans\n",
      "  (prop.get_family(), self.defaultFamily[fontext]))\n"
     ]
    },
    {
     "data": {
      "image/png": "[encoded data removed]",
      "text/plain": [
       "<Figure size 576x216 with 2 Axes>"
      ]
     },
     "metadata": {},
     "output_type": "display_data"
    }
   ],
   "source": [
    "# Set into eval mode\n",
    "model.eval()\n",
    "likelihood.eval()\n",
    "\n",
    "# Initialize plots\n",
    "f, (y1_ax, y2_ax) = plt.subplots(1, 2, figsize=(8, 3))\n",
    "# Test points every 0.02 in [0,1]\n",
    "\n",
    "# Make predictions\n",
    "with torch.no_grad():\n",
    "    test_x = torch.linspace(0, 1, 51)\n",
    "    observed_pred = likelihood(model(test_x))\n",
    "    # Get mean\n",
    "    mean = observed_pred.mean()\n",
    "    mean = mean.view(51, 2)\n",
    "    # Get lower and upper confidence bounds\n",
    "    lower, upper = observed_pred.confidence_region()\n",
    "    lower = lower.view(51, 2)\n",
    "    upper = upper.view(51, 2)\n",
    "# This contains predictions for both tasks, flattened out\n",
    "# The first half of the predictions is for the first task\n",
    "# The second half is for the second task\n",
    "\n",
    "# Define plotting function\n",
    "def ax_plot():\n",
    "\n",
    "    # Plot training data as black stars\n",
    "    y1_ax.plot(train_x.detach().numpy(), train_y1.detach().numpy(), 'k*')\n",
    "    # Predictive mean as blue line\n",
    "    y1_ax.plot(test_x.numpy(), mean[:, 0].numpy(), 'b')\n",
    "    # Shade in confidence \n",
    "    y1_ax.fill_between(test_x.numpy(), lower[:, 0].numpy(), upper[:, 0].numpy(), alpha=0.5)\n",
    "    y1_ax.set_ylim([-3, 3])\n",
    "    y1_ax.legend(['Observed Data', 'Mean', 'Confidence'])\n",
    "    y1_ax.set_title('Observed Values (Likelihood)')\n",
    "    \n",
    "    # Plot training data as black stars\n",
    "    y2_ax.plot(train_x.detach().numpy(), train_y2.detach().numpy(), 'k*')\n",
    "    # Predictive mean as blue line\n",
    "    y2_ax.plot(test_x.numpy(), mean[:, 1].numpy(), 'b')\n",
    "    # Shade in confidence \n",
    "    y2_ax.fill_between(test_x.numpy(), lower[:, 1].numpy(), upper[:, 1].numpy(), alpha=0.5)\n",
    "    y2_ax.set_ylim([-3, 3])\n",
    "    y2_ax.legend(['Observed Data', 'Mean', 'Confidence'])\n",
    "    y2_ax.set_title('Observed Values (Likelihood)')\n",
    "\n",
    "# Plot both tasks\n",
    "ax_plot()"
   ]
  }
 ],
 "metadata": {
  "anaconda-cloud": {},
  "kernelspec": {
   "display_name": "Python 3",
   "language": "python",
   "name": "python3"
  },
  "language_info": {
   "codemirror_mode": {
    "name": "ipython",
    "version": 3
   },
   "file_extension": ".py",
   "mimetype": "text/x-python",
   "name": "python",
   "nbconvert_exporter": "python",
   "pygments_lexer": "ipython3",
   "version": "3.6.4"
  }
 },
 "nbformat": 4,
 "nbformat_minor": 1
}
