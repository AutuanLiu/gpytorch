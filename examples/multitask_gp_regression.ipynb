{
 "cells": [
  {
   "cell_type": "markdown",
   "metadata": {},
   "source": [
    "This notebook demonstrates how to perform multitask regression with kernels.IndexKernel. Multitask regression, first introduced in [this paper](https://papers.nips.cc/paper/3189-multi-task-gaussian-process-prediction.pdf) learns similarities in the outputs simultaneously. It's useful when you are performing regression on multiple functions that share the same inputs, especially if they have similarities (such as being sinusodial). \n",
    "\n",
    "Multitask regression on `n` tasks essentially learns `n^2` tasks (here $2\\cdot2=4$). The extra tasks are learning the cross correlations between outputs. This allows for more accurate predictions on both tasks."
   ]
  },
  {
   "cell_type": "code",
   "execution_count": 1,
   "metadata": {
    "collapsed": true
   },
   "outputs": [],
   "source": [
    "import math\n",
    "import torch\n",
    "import gpytorch\n",
    "from matplotlib import pyplot as plt\n",
    "\n",
    "%matplotlib inline\n",
    "%load_ext autoreload\n",
    "%autoreload 2"
   ]
  },
  {
   "cell_type": "code",
   "execution_count": 2,
   "metadata": {
    "collapsed": true
   },
   "outputs": [],
   "source": [
    "from torch.autograd import Variable\n",
    "# Training points are every 0.1 in [0,1] (note that they're the same for both tasks)\n",
    "train_x = Variable(torch.linspace(0, 1, 11))\n",
    "# y1s are indexed 0, y2s are indexed 1\n",
    "y1_inds = Variable(torch.zeros(11).long())\n",
    "y2_inds = Variable(torch.ones(11).long())\n",
    "# y1 function is sin(2*pi*x) with noise N(0, 0.04)\n",
    "train_y1 = Variable(torch.sin(train_x.data * (2 * math.pi)) + torch.randn(train_x.size()) * 0.2)\n",
    "# y2 function is cos(2*pi*x) with noise N(0, 0.04)\n",
    "train_y2 = Variable(torch.cos(train_x.data * (2 * math.pi)) + torch.randn(train_x.size()) * 0.2)"
   ]
  },
  {
   "cell_type": "code",
   "execution_count": 3,
   "metadata": {
    "collapsed": true
   },
   "outputs": [],
   "source": [
    "from torch import optim\n",
    "from gpytorch.kernels import RBFKernel, IndexKernel\n",
    "from gpytorch.means import ConstantMean\n",
    "from gpytorch.likelihoods import GaussianLikelihood\n",
    "from gpytorch.random_variables import GaussianRandomVariable"
   ]
  },
  {
   "cell_type": "code",
   "execution_count": 4,
   "metadata": {
    "collapsed": true
   },
   "outputs": [],
   "source": [
    "class MultitaskGPModel(gpytorch.models.ExactGP):\n",
    "    def __init__(self, train_x, train_y, likelihood):\n",
    "        super(MultitaskGPModel, self).__init__(train_x, train_y, likelihood)\n",
    "        # Default bounds on mean are (-1e10, 1e10)\n",
    "        self.mean_module = ConstantMean()\n",
    "        # We use the very common RBF kernel\n",
    "        self.covar_module = RBFKernel()\n",
    "        # We learn an IndexKernel for 2 tasks\n",
    "        # (so we'll actually learn 2x2=4 tasks with correlations)\n",
    "        self.task_covar_module = IndexKernel(n_tasks=2, rank=1)\n",
    "\n",
    "    def forward(self,x,i):\n",
    "        # Get predictive mean\n",
    "        mean_x = self.mean_module(x)\n",
    "        # Get all covariances, we'll look up the task-speicific ones\n",
    "        covar_x = self.covar_module(x)\n",
    "        # # Get the covariance for task i\n",
    "        covar_i = self.task_covar_module(i)\n",
    "        covar_xi = covar_x.mul(covar_i)\n",
    "        return GaussianRandomVariable(mean_x, covar_xi)\n",
    "\n",
    "# Gaussian likelihood is used for regression to give predictive mean+variance\n",
    "# and learn noise\n",
    "likelihood = GaussianLikelihood()\n",
    "# Since we are learning two tasks we feed in the x_data twice, along with the \n",
    "# y_data along with its indices\n",
    "model = MultitaskGPModel((torch.cat([train_x.data, train_x.data]),\n",
    "                          torch.cat([y1_inds.data, y2_inds.data])),\n",
    "                         torch.cat([train_y1.data, train_y2.data]), likelihood)"
   ]
  },
  {
   "cell_type": "code",
   "execution_count": 5,
   "metadata": {
    "scrolled": false
   },
   "outputs": [
    {
     "name": "stdout",
     "output_type": "stream",
     "text": [
      "Iter 1/50 - Loss: 1.327\n",
      "Iter 2/50 - Loss: 1.294\n",
      "Iter 3/50 - Loss: 1.266\n",
      "Iter 4/50 - Loss: 1.240\n",
      "Iter 5/50 - Loss: 1.219\n",
      "Iter 6/50 - Loss: 1.204\n",
      "Iter 7/50 - Loss: 1.194\n",
      "Iter 8/50 - Loss: 1.190\n",
      "Iter 9/50 - Loss: 1.192\n",
      "Iter 10/50 - Loss: 1.199\n",
      "Iter 11/50 - Loss: 1.209\n",
      "Iter 12/50 - Loss: 1.219\n",
      "Iter 13/50 - Loss: 1.227\n",
      "Iter 14/50 - Loss: 1.231\n",
      "Iter 15/50 - Loss: 1.231\n",
      "Iter 16/50 - Loss: 1.226\n",
      "Iter 17/50 - Loss: 1.219\n",
      "Iter 18/50 - Loss: 1.205\n",
      "Iter 19/50 - Loss: 1.194\n",
      "Iter 20/50 - Loss: 1.178\n",
      "Iter 21/50 - Loss: 1.163\n",
      "Iter 22/50 - Loss: 1.143\n",
      "Iter 23/50 - Loss: 1.128\n",
      "Iter 24/50 - Loss: 1.118\n",
      "Iter 25/50 - Loss: 1.104\n",
      "Iter 26/50 - Loss: 1.088\n",
      "Iter 27/50 - Loss: 1.076\n",
      "Iter 28/50 - Loss: 1.073\n",
      "Iter 29/50 - Loss: 1.124\n",
      "Iter 30/50 - Loss: 1.053\n",
      "Iter 31/50 - Loss: 1.062\n",
      "Iter 32/50 - Loss: 1.028\n",
      "Iter 33/50 - Loss: 1.034\n",
      "Iter 34/50 - Loss: 0.981\n",
      "Iter 35/50 - Loss: 1.052\n",
      "Iter 36/50 - Loss: 0.971\n",
      "Iter 37/50 - Loss: 0.987\n",
      "Iter 38/50 - Loss: 1.007\n",
      "Iter 39/50 - Loss: 0.936\n",
      "Iter 40/50 - Loss: 0.910\n",
      "Iter 41/50 - Loss: 0.923\n",
      "Iter 42/50 - Loss: 0.840\n",
      "Iter 43/50 - Loss: 0.909\n",
      "Iter 44/50 - Loss: 0.852\n",
      "Iter 45/50 - Loss: 0.968\n",
      "Iter 46/50 - Loss: 0.851\n",
      "Iter 47/50 - Loss: 0.846\n",
      "Iter 48/50 - Loss: 0.895\n",
      "Iter 49/50 - Loss: 0.848\n",
      "Iter 50/50 - Loss: 0.967\n"
     ]
    }
   ],
   "source": [
    "# Find optimal model hyperparameters\n",
    "model.train()\n",
    "likelihood.train()\n",
    "\n",
    "# Use the adam optimizer\n",
    "optimizer = torch.optim.Adam([\n",
    "    {'params': model.parameters()},  # Includes GaussianLikelihood parameters\n",
    "], lr=0.1)\n",
    "\n",
    "# \"Loss\" for GPs - the marginal log likelihood\n",
    "mll = gpytorch.mlls.ExactMarginalLogLikelihood(likelihood, model)\n",
    "\n",
    "for i in range(50):\n",
    "    # Zero prev backpropped gradients\n",
    "    optimizer.zero_grad()\n",
    "    # Make predictions from training data\n",
    "    # Again, note feeding duplicated x_data and indices indicating which task\n",
    "    output = model(torch.cat([train_x, train_x]), torch.cat([y1_inds, y2_inds]))\n",
    "    # Calc the loss and backprop gradients\n",
    "    loss = -mll(output, torch.cat([train_y1, train_y2]))\n",
    "    loss.backward()\n",
    "    print('Iter %d/50 - Loss: %.3f' % (i + 1, loss.data[0]))\n",
    "    optimizer.step()"
   ]
  },
  {
   "cell_type": "code",
   "execution_count": 6,
   "metadata": {},
   "outputs": [
    {
     "data": {
      "image/png": "[encoded data removed]",
      "text/plain": [
       "<matplotlib.figure.Figure at 0x7ff6b8304a90>"
      ]
     },
     "metadata": {},
     "output_type": "display_data"
    }
   ],
   "source": [
    "# Set into eval mode\n",
    "model.eval()\n",
    "likelihood.eval()\n",
    "\n",
    "# Initialize plots\n",
    "f, (y1_ax, y2_ax) = plt.subplots(1, 2, figsize=(8, 3))\n",
    "# Test points every 0.02 in [0,1]\n",
    "test_x = Variable(torch.linspace(0, 1, 51))\n",
    "# Make y index vectors of the same length as test data\n",
    "y1_inds_test = Variable(torch.zeros(51).long())\n",
    "y2_inds_test = Variable(torch.ones(51).long())\n",
    "\n",
    "# Make predictions\n",
    "observed_pred_y1 = likelihood(model(test_x, y1_inds_test))\n",
    "observed_pred_y2 = likelihood(model(test_x, y2_inds_test))\n",
    "\n",
    "# Define plotting function\n",
    "def ax_plot(ax, train_y, rand_var, title):\n",
    "    # Get lower and upper confidence bounds\n",
    "    lower, upper = rand_var.confidence_region()\n",
    "    # Plot training data as black stars\n",
    "    ax.plot(train_x.data.numpy(), train_y.data.numpy(), 'k*')\n",
    "    # Predictive mean as blue line\n",
    "    ax.plot(test_x.data.numpy(), rand_var.mean().data.numpy(), 'b')\n",
    "    # Shade in confidence \n",
    "    ax.fill_between(test_x.data.numpy(), lower.data.numpy(), upper.data.numpy(), alpha=0.5)\n",
    "    ax.set_ylim([-3, 3])\n",
    "    ax.legend(['Observed Data', 'Mean', 'Confidence'])\n",
    "    ax.set_title(title)\n",
    "# Plot both tasks\n",
    "ax_plot(y1_ax, train_y1, observed_pred_y1, 'Observed Values (Likelihood)')\n",
    "ax_plot(y2_ax, train_y2, observed_pred_y2, 'Observed Values (Likelihood)')"
   ]
  },
  {
   "cell_type": "code",
   "execution_count": null,
   "metadata": {
    "collapsed": true
   },
   "outputs": [],
   "source": []
  }
 ],
 "metadata": {
  "anaconda-cloud": {},
  "kernelspec": {
   "display_name": "Python 3",
   "language": "python",
   "name": "python3"
  },
  "language_info": {
   "codemirror_mode": {
    "name": "ipython",
    "version": 3
   },
   "file_extension": ".py",
   "mimetype": "text/x-python",
   "name": "python",
   "nbconvert_exporter": "python",
   "pygments_lexer": "ipython3",
   "version": "3.6.1"
  }
 },
 "nbformat": 4,
 "nbformat_minor": 1
}
