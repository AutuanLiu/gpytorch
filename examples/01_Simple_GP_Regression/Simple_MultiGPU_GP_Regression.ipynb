{
 "cells": [
  {
   "cell_type": "markdown",
   "metadata": {},
   "source": [
    "# Exact GP Regression with Multiple GPUs"
   ]
  },
  {
   "cell_type": "code",
   "execution_count": 1,
   "metadata": {
    "scrolled": true
   },
   "outputs": [],
   "source": [
    "import math\n",
    "import torch\n",
    "import gpytorch\n",
    "from matplotlib import pyplot as plt\n",
    "\n",
    "%matplotlib inline\n",
    "%load_ext autoreload\n",
    "%autoreload 2"
   ]
  },
  {
   "cell_type": "code",
   "execution_count": 2,
   "metadata": {},
   "outputs": [],
   "source": [
    "# Training data is 11 points in [0,1] inclusive regularly spaced\n",
    "train_x = torch.linspace(0, 1, 100)\n",
    "# True function is sin(2*pi*x) with Gaussian noise\n",
    "train_y = torch.sin(train_x * (2 * math.pi)) + torch.randn(train_x.size()) * 0.2\n",
    "\n",
    "train_x = train_x.cuda()\n",
    "train_y = train_y.cuda()"
   ]
  },
  {
   "cell_type": "code",
   "execution_count": null,
   "metadata": {},
   "outputs": [],
   "source": []
  },
  {
   "cell_type": "code",
   "execution_count": 3,
   "metadata": {},
   "outputs": [],
   "source": [
    "# We will use the simplest form of GP model, exact inference\n",
    "class ExactGPModel(gpytorch.models.ExactGP):\n",
    "    def __init__(self, train_x, train_y, likelihood):\n",
    "        super(ExactGPModel, self).__init__(train_x, train_y, likelihood)\n",
    "        self.mean_module = gpytorch.means.ConstantMean()\n",
    "        base_covar_module = gpytorch.kernels.ScaleKernel(gpytorch.kernels.RBFKernel())\n",
    "        \n",
    "        self.covar_module = gpytorch.kernels.MultiDeviceKernel(\n",
    "            base_covar_module, device_ids=range(torch.cuda.device_count()),\n",
    "            output_device=torch.device('cuda')  # Default device\n",
    "        )\n",
    "    \n",
    "    def forward(self, x):\n",
    "        mean_x = self.mean_module(x)\n",
    "        covar_x = self.covar_module(x)\n",
    "        return gpytorch.distributions.MultivariateNormal(mean_x, covar_x)\n",
    "\n",
    "likelihood = gpytorch.likelihoods.GaussianLikelihood().to(\"cuda:0\")\n",
    "model = ExactGPModel(train_x, train_y, likelihood).to(\"cuda:0\")\n"
   ]
  },
  {
   "cell_type": "code",
   "execution_count": 4,
   "metadata": {
    "scrolled": false
   },
   "outputs": [
    {
     "name": "stdout",
     "output_type": "stream",
     "text": [
      "Iter 1/50 - Loss: 0.958   lengthscale: 0.693   noise: 0.693\n",
      "Iter 2/50 - Loss: 0.927   lengthscale: 0.644   noise: 0.644\n",
      "Iter 3/50 - Loss: 0.893   lengthscale: 0.598   noise: 0.598\n",
      "Iter 4/50 - Loss: 0.855   lengthscale: 0.555   noise: 0.554\n",
      "Iter 5/50 - Loss: 0.810   lengthscale: 0.514   noise: 0.513\n",
      "Iter 6/50 - Loss: 0.760   lengthscale: 0.475   noise: 0.474\n",
      "Iter 7/50 - Loss: 0.705   lengthscale: 0.439   noise: 0.437\n",
      "Iter 8/50 - Loss: 0.648   lengthscale: 0.405   noise: 0.402\n",
      "Iter 9/50 - Loss: 0.593   lengthscale: 0.372   noise: 0.369\n",
      "Iter 10/50 - Loss: 0.544   lengthscale: 0.342   noise: 0.338\n",
      "Iter 11/50 - Loss: 0.499   lengthscale: 0.316   noise: 0.310\n",
      "Iter 12/50 - Loss: 0.457   lengthscale: 0.293   noise: 0.283\n",
      "Iter 13/50 - Loss: 0.421   lengthscale: 0.273   noise: 0.259\n",
      "Iter 14/50 - Loss: 0.384   lengthscale: 0.256   noise: 0.236\n",
      "Iter 15/50 - Loss: 0.346   lengthscale: 0.242   noise: 0.215\n",
      "Iter 16/50 - Loss: 0.310   lengthscale: 0.231   noise: 0.195\n",
      "Iter 17/50 - Loss: 0.279   lengthscale: 0.223   noise: 0.177\n",
      "Iter 18/50 - Loss: 0.245   lengthscale: 0.216   noise: 0.161\n",
      "Iter 19/50 - Loss: 0.209   lengthscale: 0.211   noise: 0.146\n",
      "Iter 20/50 - Loss: 0.181   lengthscale: 0.208   noise: 0.133\n",
      "Iter 21/50 - Loss: 0.143   lengthscale: 0.206   noise: 0.120\n",
      "Iter 22/50 - Loss: 0.105   lengthscale: 0.206   noise: 0.109\n",
      "Iter 23/50 - Loss: 0.083   lengthscale: 0.207   noise: 0.099\n",
      "Iter 24/50 - Loss: 0.053   lengthscale: 0.210   noise: 0.090\n",
      "Iter 25/50 - Loss: 0.011   lengthscale: 0.213   noise: 0.082\n",
      "Iter 26/50 - Loss: -0.013   lengthscale: 0.218   noise: 0.074\n",
      "Iter 27/50 - Loss: -0.036   lengthscale: 0.223   noise: 0.068\n",
      "Iter 28/50 - Loss: -0.058   lengthscale: 0.229   noise: 0.062\n",
      "Iter 29/50 - Loss: -0.082   lengthscale: 0.236   noise: 0.056\n",
      "Iter 30/50 - Loss: -0.099   lengthscale: 0.244   noise: 0.051\n",
      "Iter 31/50 - Loss: -0.119   lengthscale: 0.252   noise: 0.047\n",
      "Iter 32/50 - Loss: -0.125   lengthscale: 0.262   noise: 0.043\n",
      "Iter 33/50 - Loss: -0.136   lengthscale: 0.272   noise: 0.040\n",
      "Iter 34/50 - Loss: -0.143   lengthscale: 0.283   noise: 0.037\n",
      "Iter 35/50 - Loss: -0.147   lengthscale: 0.292   noise: 0.035\n",
      "Iter 36/50 - Loss: -0.148   lengthscale: 0.301   noise: 0.032\n",
      "Iter 37/50 - Loss: -0.145   lengthscale: 0.308   noise: 0.030\n",
      "Iter 38/50 - Loss: -0.143   lengthscale: 0.313   noise: 0.029\n",
      "Iter 39/50 - Loss: -0.137   lengthscale: 0.314   noise: 0.028\n",
      "Iter 40/50 - Loss: -0.133   lengthscale: 0.313   noise: 0.026\n",
      "Iter 41/50 - Loss: -0.132   lengthscale: 0.312   noise: 0.026\n",
      "Iter 42/50 - Loss: -0.129   lengthscale: 0.309   noise: 0.025\n",
      "Iter 43/50 - Loss: -0.127   lengthscale: 0.306   noise: 0.025\n",
      "Iter 44/50 - Loss: -0.125   lengthscale: 0.301   noise: 0.024\n",
      "Iter 45/50 - Loss: -0.125   lengthscale: 0.296   noise: 0.024\n",
      "Iter 46/50 - Loss: -0.129   lengthscale: 0.291   noise: 0.024\n",
      "Iter 47/50 - Loss: -0.130   lengthscale: 0.287   noise: 0.025\n",
      "Iter 48/50 - Loss: -0.132   lengthscale: 0.282   noise: 0.025\n",
      "Iter 49/50 - Loss: -0.132   lengthscale: 0.278   noise: 0.025\n",
      "Iter 50/50 - Loss: -0.130   lengthscale: 0.274   noise: 0.026\n"
     ]
    }
   ],
   "source": [
    "# Find optimal model hyperparameters\n",
    "model.train()\n",
    "likelihood.train()\n",
    "\n",
    "# Use the adam optimizer\n",
    "optimizer = torch.optim.Adam([\n",
    "    {'params': model.parameters()},  # Includes GaussianLikelihood parameters\n",
    "], lr=0.1)\n",
    "\n",
    "# \"Loss\" for GPs - the marginal log likelihood\n",
    "mll = gpytorch.mlls.ExactMarginalLogLikelihood(likelihood, model)\n",
    "\n",
    "with gpytorch.settings.max_preconditioner_size(5):\n",
    "    training_iter = 50\n",
    "    for i in range(training_iter):\n",
    "        # Zero gradients from previous iteration\n",
    "        optimizer.zero_grad()\n",
    "        # Output from model\n",
    "        output = model(train_x)\n",
    "        # Calc loss and backprop gradients\n",
    "        loss = -mll(output, train_y)\n",
    "        loss.backward()\n",
    "        print('Iter %d/%d - Loss: %.3f   lengthscale: %.3f   noise: %.3f' % (\n",
    "            i + 1, training_iter, loss.item(),\n",
    "            model.covar_module.module.base_kernel.lengthscale.item(),\n",
    "            model.likelihood.noise.item()\n",
    "        ))\n",
    "        optimizer.step()"
   ]
  },
  {
   "cell_type": "code",
   "execution_count": 5,
   "metadata": {},
   "outputs": [],
   "source": [
    "# Get into evaluation (predictive posterior) mode\n",
    "model.eval()\n",
    "likelihood.eval()\n",
    "\n",
    "# Test points are regularly spaced along [0,1]\n",
    "# Make predictions by feeding model through likelihood\n",
    "with torch.no_grad(), gpytorch.settings.fast_pred_var():\n",
    "    test_x = torch.linspace(0, 1, 51).cuda()\n",
    "    observed_pred = model(test_x)\n",
    "    observed_pred = likelihood(observed_pred)"
   ]
  },
  {
   "cell_type": "code",
   "execution_count": 6,
   "metadata": {
    "scrolled": false
   },
   "outputs": [
    {
     "data": {
      "image/png": "[encoded data removed]",
      "text/plain": [
       "<Figure size 288x216 with 1 Axes>"
      ]
     },
     "metadata": {
      "needs_background": "light"
     },
     "output_type": "display_data"
    }
   ],
   "source": [
    "with torch.no_grad():\n",
    "    # Initialize plot\n",
    "    f, ax = plt.subplots(1, 1, figsize=(4, 3))\n",
    "\n",
    "    # Get upper and lower confidence bounds\n",
    "    lower, upper = observed_pred.confidence_region()\n",
    "    # Plot training data as black stars\n",
    "    ax.plot(train_x.cpu().numpy(), train_y.cpu().numpy(), 'k*')\n",
    "    # Plot predictive means as blue line\n",
    "    ax.plot(test_x.cpu().numpy(), observed_pred.mean.cpu().numpy(), 'b')\n",
    "    # Shade between the lower and upper confidence bounds\n",
    "    ax.fill_between(test_x.squeeze().cpu().numpy(), lower.cpu().numpy(), upper.cpu().numpy(), alpha=0.5)\n",
    "    ax.set_ylim([-3, 3])\n",
    "    ax.legend(['Observed Data', 'Mean', 'Confidence'])\n",
    "    plt.savefig('res.pdf')"
   ]
  }
 ],
 "metadata": {
  "anaconda-cloud": {},
  "kernelspec": {
   "display_name": "Python 3",
   "language": "python",
   "name": "python3"
  },
  "language_info": {
   "codemirror_mode": {
    "name": "ipython",
    "version": 3
   },
   "file_extension": ".py",
   "mimetype": "text/x-python",
   "name": "python",
   "nbconvert_exporter": "python",
   "pygments_lexer": "ipython3",
   "version": "3.6.8"
  }
 },
 "nbformat": 4,
 "nbformat_minor": 1
}
